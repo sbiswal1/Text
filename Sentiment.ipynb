{
 "cells": [
  {
   "cell_type": "code",
   "execution_count": 89,
   "metadata": {},
   "outputs": [],
   "source": [
    "import json\n",
    "from pathlib import Path\n",
    "import re\n",
    "import random\n",
    "import pandas as pd\n",
    "import re\n",
    "import nltk\n",
    "from nltk.corpus import movie_reviews\n",
    "import random"
   ]
  },
  {
   "cell_type": "code",
   "execution_count": 90,
   "metadata": {},
   "outputs": [
    {
     "name": "stderr",
     "output_type": "stream",
     "text": [
      "[nltk_data] Downloading package vader_lexicon to\n",
      "[nltk_data]     C:\\Users\\sushbiswal\\AppData\\Roaming\\nltk_data...\n",
      "[nltk_data]   Package vader_lexicon is already up-to-date!\n",
      "[nltk_data] Downloading package punkt to\n",
      "[nltk_data]     C:\\Users\\sushbiswal\\AppData\\Roaming\\nltk_data...\n",
      "[nltk_data]   Package punkt is already up-to-date!\n"
     ]
    },
    {
     "data": {
      "text/plain": [
       "True"
      ]
     },
     "execution_count": 90,
     "metadata": {},
     "output_type": "execute_result"
    }
   ],
   "source": [
    "import nltk\n",
    "nltk.download('vader_lexicon')\n",
    "nltk.download('punkt')"
   ]
  },
  {
   "cell_type": "code",
   "execution_count": 91,
   "metadata": {},
   "outputs": [],
   "source": [
    "from nltk.sentiment.vader import SentimentIntensityAnalyzer\n",
    "sid = SentimentIntensityAnalyzer()"
   ]
  },
  {
   "cell_type": "code",
   "execution_count": 106,
   "metadata": {},
   "outputs": [],
   "source": [
    "df=pd.read_csv('Final_predictedClasses.csv')"
   ]
  },
  {
   "cell_type": "code",
   "execution_count": 98,
   "metadata": {},
   "outputs": [
    {
     "data": {
      "text/plain": [
       "('pos', 0.408)"
      ]
     },
     "execution_count": 98,
     "metadata": {},
     "output_type": "execute_result"
    }
   ],
   "source": [
    "max(scores, key=scores.get),scores[maximum]"
   ]
  },
  {
   "cell_type": "markdown",
   "metadata": {},
   "source": [
    "# Sentiment Analysis"
   ]
  },
  {
   "cell_type": "code",
   "execution_count": 107,
   "metadata": {
    "collapsed": true
   },
   "outputs": [
    {
     "name": "stdout",
     "output_type": "stream",
     "text": [
      "0.408 pos\n",
      "camera fingerprint good\n",
      "0.196 pos\n",
      "nic awesome\n",
      "0.745 neu\n",
      "satisfactory bottom two speakers one working also scratch mark newly unbox phone screen protector please something\n",
      "0.213 pos\n",
      "excellent performance\n",
      "0.27 neg\n",
      "heating problem\n",
      "1.0 neu\n",
      "ghatiya\n",
      "0.0 pos\n",
      "loved satisfied worth value\n",
      "0.839 neu\n",
      "one plus 6t best phone sum issue lyk finger lock itz take 2 sec open lock n try mre den 2 tyms n abt face lock ossum itz lock opens seconds gave 5 star face lock poor finger lockn camera battery back also gud gud\n",
      "0.0 pos\n",
      "superb\n",
      "0.588 neu\n",
      "first oneplus deviceand nice use\n",
      "0.719 neu\n",
      "fingerprint sensor bit finicky refuses unlock phone occasionally rest amazing\n",
      "0.605 neu\n",
      "samsung user always smooth use never faced issues errorrecently bought oneplus 6t amazon phone good best sound quality space phone128 gb however encountered error error cant hold calls outgoing calls possible read net got know resolve error earlier also got error wish switched brand would continued using samsung could taken iphone\n",
      "0.543 compound\n",
      "best phone 1st one plus mobile\n",
      "1.0 neu\n",
      "finger print reader proper\n",
      "0.252 compound\n",
      "like mobile excellent speed looking smart\n",
      "0.614 neu\n",
      "super speedbut fingerprint reader display little slow hard touch one\n",
      "0.749 compound\n",
      "oneplus 6t best value money smartphone premium smartphone range cannot question whether one buy different question altogether every one plus phone worth buying mom still using one plus one base variant 1 gb ram 16gb memory still working fine without lags think 6t\n",
      "0.303 compound\n",
      "nice handle backup speed awesome\n",
      "0.288 pos\n",
      "flagship killer one best smartphones ever made\n",
      "0.698 neu\n",
      "plz dont buy phone\n",
      "0.0 pos\n",
      "perfect\n",
      "0.654 neu\n",
      "finger print slow recognize sometimes things perfect price\n",
      "1.0 neu\n",
      "working expected\n",
      "0.852 neu\n",
      "much high price business india economic 20000 peoples think buy it100+++profit less profit high volume sail+++profit100\n",
      "0.71 neu\n",
      "delivered defective product sim slot 1 doesnt work return date expired within 2 weeks could understand defect\n",
      "0.0 pos\n",
      "nice\n",
      "0.565 compound\n",
      "truly benchmark phone cutting edge technology performance fingerprint little slow nice product\n",
      "0.591 compound\n",
      "got mclaren edition birthday gift friendstoo fast facial recognition works like charmvery good battery life\n",
      "0.5 compound\n",
      "likes 1 battery life awesome 2 camera quality clearity 3 mirror black awesome 4 fast finger print facelock\n",
      "0.359 compound\n",
      "nice wow great weekend know find herewith attached updated\n",
      "0.817 neu\n",
      "brought local store price 37999 8gb 128gb really like speed snapdragon 845touch sensitivity daylight photos animation fast charging technology premium look oxygen osdont likefingerprint sometimes dont recognize battery discharging fast negligible bcuz fast charger gives 50100 less 35 min lowlight photos improve photos get blurred sometimesalthough glass back putting cover looks like standard phone\n",
      "0.633 compound\n",
      "pros good camera long lasting battery phone performance good overall phone goodcons headphone jack still okay provide type c cable helps connect normal earphones ithonestly speaking phone good would suggest go worth price\n",
      "0.434 compound\n",
      "worth money wont regret buying phone everything excellent compromises great performance battery life go without worries\n",
      "0.618 neu\n",
      "confused cancelled purchase cant opine lot many players crooped field choice difficult prices high\n",
      "0.642 neu\n",
      "overall super phone must buy without second thought\n",
      "0.0 pos\n",
      "good\n",
      "0.326 compound\n",
      "total value money amazing camera\n",
      "0.508 compound\n",
      "everything good camera upto expectation video recording good\n",
      "0.92 neu\n",
      "beast phone using past 3 months havent encountered issue want premium experience android phone go one\n",
      "1.0 neu\n",
      "phone black white colourwhere repair\n",
      "1.0 neu\n",
      "fingerprint reader slow\n",
      "1.0 neu\n",
      "one word beast\n",
      "0.568 compound\n",
      "amazing user experience fastest android phone\n",
      "0.612 neu\n",
      "phone pretty fast lags fingerprint sometimes since display finger print sensor\n",
      "1.0 neu\n",
      "sound issues contact details\n",
      "1.0 neu\n",
      "coolest thing found drawback fingerprint sensor little slow display compared phones\n",
      "0.88 neu\n",
      "indisplay fingerprint reader slow compare iphone earlier oneplus models dedicated fingerprint readersrest phone fastest ever used may extra 2 gigs ram come mclaren edition\n",
      "0.63 neu\n",
      "liked phone general screen finger print sensor stopped working months\n",
      "0.689 compound\n",
      "face unlock fantabulous fingerprint unlock also faster battery life also better dash charger boht hard pubg support hard graphics hdr 6t purra paisa vasul hai nightmode amazing made phone mclaren edition theme\n",
      "0.263 pos\n",
      "nice phone\n",
      "0.707 compound\n",
      "phone keeps hanging apparently known issue 6t easy fix available phone hangs stays frozen till battery wears nothing disappointing regret switching oneplus\n",
      "1.0 neu\n",
      "nothing\n",
      "0.0 pos\n",
      "like\n",
      "0.0 pos\n",
      "good\n",
      "0.408 pos\n",
      "camera quality good\n",
      "0.177 compound\n",
      "amazing needs improve ram optimization\n",
      "0.451 compound\n",
      "pictures sharp looks good video stabilisation bad battery life good display awesome esp night mode\n",
      "0.737 neu\n",
      "like functionsdislike zoom function extraordinary zooming touch response\n",
      "0.323 pos\n",
      "love phone much\n",
      "0.27 neg\n",
      "hanging problem\n",
      "0.641 neu\n",
      "got know purchase one plus 6t please dont buy nowhere comparable iphones premium phone chinese company worst part phones screen broken falling four feet ground despite screen guard one plus case screen got broken replaced today one plus store cp new delhi best part ambience store fantastic screen replacment flawless lots buddies came problem took nine thousand bucks warranty\n",
      "0.517 neu\n",
      "satisfied camera main con\n",
      "0.765 neu\n",
      "product good since one plus 7 coming within month prefer buying even wait one plus 7 prounluckywe get deceived offerssince refuse take back rethink buying one plus futuremay last one plus\n",
      "0.256 pos\n",
      "good gajet\n",
      "0.256 pos\n",
      "good phone\n",
      "0.738 neu\n",
      "loved experience right branding unpacking box using phone everything 10 10 far\n",
      "0.0 pos\n",
      "good\n",
      "0.452 compound\n",
      "good phone need improve camera n app integration received damaged box phone n accessories ok\n",
      "1.0 neu\n",
      "fingerprint reader goodcamera upto markinterface little smoothervalue money found\n",
      "1.0 neu\n",
      "rocking everywhere\n",
      "0.597 compound\n",
      "best phone buy bought phone december 5th 2018 phone please aesthetically camera better apple iphones samsung phones terms clarity stability dslr camera packed small package battery performance also great massive 3700 mah capacity charge phone 2 days interface user friendly moreover phone ultimately fast lag observed phone thanks oneplus team wonderful product\n",
      "0.465 compound\n",
      "nice phone ever seen fast awesome battery backup\n",
      "0.613 compound\n",
      "great phone works without hangups touch sensor amazing camera gives amazing pictures face recognition doesnt differentiate neighbors times screen finger print sensor times doesnt recognize times great phone use\n",
      "0.213 pos\n",
      "simple perfect\n",
      "0.263 compound\n",
      "nice product camera nice satisfied product\n",
      "0.83 neu\n",
      "built packaging phone finehowever able switch phone since none apps updatedpl help\n",
      "0.733 compound\n",
      "review 5 months usage preordered purchased soon released india way back november 2018pros great battery life 225 days moderate light usage 115 days intense heavy usageaverage screen time 56 hours max ive got 95 hours impressive performance whether youre gaming watching netflix chatting 30+ chrome tabs open prepare smooth seamless experience lags stutters whatsoever restart phone twice month clear system cache required good camera agreed camera quality par likes topoftheline samsungs apples price range extremely impressive detailed crisp pictures daylight impressive low light photography albeit tradeoffs cutting edge indisplay fingerprint sensor concealed fingerprint scanner definitely faster others usually unlocks within couple milliseconds first try also doesnt work rarely software optimization side youll need place finger correctly else youll stuck thumb screen couple seconds hey works best rapid charge fastest charging device currently imo goes 100 almost hour charging happens rapidly battery level 50 speed slowly reduces battery percentage increases reduce damage device user smooth slick os love ui ux oxygen os feels almost like stock android perks added feels extremely zippy executing task stunning design build build quality design phone extremely impressive looks slick like beautifully crafted piece shiny black metal phone feels solid heavy weight might con according preferences oh notch dont worry looks beautiful youll never really notice start using device hide want os cons rip headphone jack know phone advertised without headphone jack supplied typec 35mm dongle cant always carry dongle around youll miss convenience one initially couple weeks youll get used get oneplus typec bullets wont miss 35mm jack short time typec bullets sound extremely good inbuilt dac 6t blurry nightscape night photography nightscape mode 6t could use work two modes operation 1 phone senses propped stand stable camera takes longer shoot low light pictures slow shutter allowing light pass 2 youre holding hand takes approx 12s shoot low light photosthe output always crisp bit blurry smoothened long dont zoom closely subject itll look good inbuild speaker earpiece loudspeaker sounds slightly tinny highs overpowering mids bass almost cant really hear bass earpiece kinda tiny placed top frame device almost invisible sometimes sometimes hard time hearing person call loud enough clear enough extremely poor haptic vibration trust vibration motor oneplus devices tested op x 3 3t 5 5t 6 6t almost nonexistent carry phone jean pocket feel youre holding hand youll never feel vibrating pocket blurry selfies rear camera topnotch front snapper much agreed gives beautiful selfies thats works properly 23 photos 5 snapped using front camera turn blurred hold phone really steady want good picture first attemptthumbs found helpful\n",
      "0.608 compound\n",
      "unbelievable speed phone well camera water resistance phone fast charging phone totally best phones ffdcj cjddhht\n",
      "0.225 pos\n",
      "best earphone jack problem\n",
      "1.0 neu\n",
      "shine product display awesomesuperb camera powerfull processers camera mind blowingnow oneplus\n",
      "0.213 pos\n",
      "excellent photography\n",
      "0.687 compound\n",
      "one plus 6t rocking phone battery back speaker images voice quality well recommend thinking smart phone near budget 40k\n",
      "0.606 compound\n",
      "much much less even though fan onscreen fingerprint reader ive gotten used works like charmno lags amazing battery good camera add google camera youre set delivery could better got 5th day nearby place contacted said theyll deliver according bulk orders something kinda annoying package safe sound im happy\n",
      "0.323 pos\n",
      "evrything love phone\n",
      "0.0 pos\n",
      "great\n",
      "0.588 neu\n",
      "flagship level performance\n",
      "0.859 neu\n",
      "fingerprint recognize sometime bettery backup one day charged big issue replace oneplus6t\n",
      "0.728 neu\n",
      "fingerprint reader satisfying face recognition gud image stabilization upto mark may gudbut wat expected dats lil upset\n",
      "0.0 pos\n",
      "okay\n",
      "0.276 compound\n",
      "good phone seller charged delivery free delivery assured\n",
      "0.27 neg\n",
      "voice problem\n",
      "0.544 neu\n",
      "bhut bdiya phon hey low price wating one plus7 thanks amazon\n",
      "0.408 pos\n",
      "good phone phone\n",
      "0.588 compound\n",
      "probably best using since last months smartphone beast serves needs well\n",
      "0.0 pos\n",
      "good\n",
      "0.395 compound\n",
      "processor 845 best dual camera n low light photography good\n",
      "0.192 pos\n",
      "works perfectly\n",
      "0.256 neg\n",
      "damaged product\n",
      "0.0 pos\n",
      "excellent\n",
      "0.416 compound\n",
      "really good producti appreciate thanks amazon every feature goodthe mobile fast smooth battery also goodi happy phone amazing product\n",
      "0.833 neu\n",
      "even concerns indisplay fingerprint reader buying product using 2 weeks seems fingerprint reader works physical fingerprint reader though may seem like indisplay fingerprint reader slow trust blazing fast speed compared one plus 6\n",
      "0.651 compound\n",
      "honest phone mclaren good phone seem 10 gb ram instead buy normal oneplus 6t 8gb ram phone absolutely good worth 50000 u may buy normal one\n",
      "1.0 neu\n",
      "bought set atleast next 3 years unbeatable phone\n",
      "0.0 pos\n",
      "good\n",
      "0.241 pos\n",
      "super phone value money\n",
      "1.0 neu\n",
      "need got one plus\n",
      "0.263 pos\n",
      "good smart phone range\n",
      "0.388 compound\n",
      "incredibly fast responive ram management awesome honestly dont hesitate go phone happy\n",
      "0.222 compound\n",
      "great phone good specifications\n",
      "1.0 neu\n",
      "never compromised\n",
      "0.196 pos\n",
      "awesome mobile\n",
      "0.0 pos\n",
      "super\n",
      "0.222 compound\n",
      "awesome phonecant get better\n",
      "0.0 pos\n",
      "awesome\n",
      "1.0 neu\n",
      "loan installment 7667 1st april 7725 deduct account answer soon possible\n",
      "0.0 pos\n",
      "nice\n",
      "0.672 compound\n",
      "one plus makes could make 95 public happy best phone gifting dont whats going please fast charging nice display decent camera gaming plus pointcould better ip68 water resistant wireless charging wireless charger otherwise ignore 28k lg g7 alternative bought one plus someone else\n",
      "0.263 pos\n",
      "nice mobile\n",
      "0.377 compound\n",
      "good phone camera like dslr good pubg games lagging solid body sound qualty good purchase\n",
      "0.58 neu\n",
      "battery backup good generating heat\n",
      "0.323 neg\n",
      "low light\n",
      "1.0 neu\n",
      "mark usual\n",
      "0.217 pos\n",
      "fantastic product\n",
      "1.0 neu\n",
      "mindblowing phone\n",
      "0.0 pos\n",
      "good\n",
      "0.48 neu\n",
      "product brilliant problem phone much heavy bulky 5t\n",
      "0.856 neu\n",
      "fastest delivery ever ordered product night 1145 pm morning 830 delivery guy calls give phoneno earphones box phone really good\n",
      "0.729 neu\n",
      "oneplus 6t gets hanged frequently month phone getting hang bad quality product plus replacement option amazon\n",
      "0.558 neu\n",
      "battery performance poor lasts max 6 hrs complaint amazon even listening even though 3 days getting amazon\n",
      "1.0 neu\n",
      "words\n"
     ]
    }
   ],
   "source": [
    "for idx,i in df[df['body'].notnull()].iterrows():\n",
    "    #print(i['body'])\n",
    "    scores = sid.polarity_scores(i['body'])\n",
    "    print(scores[maximum],max(scores, key=scores.get))\n",
    "    print(df['body'][idx])\n",
    "    df.at[idx,'Sentiment_score']=scores[maximum]\n",
    "    df.at[idx,'Sentiment']=max(scores, key=scores.get)"
   ]
  },
  {
   "cell_type": "code",
   "execution_count": 109,
   "metadata": {},
   "outputs": [],
   "source": [
    "df.to_csv(\"Final_classified_withsentimentScore.csv\")"
   ]
  },
  {
   "cell_type": "markdown",
   "metadata": {},
   "source": [
    "# Graph\n"
   ]
  },
  {
   "cell_type": "code",
   "execution_count": 123,
   "metadata": {},
   "outputs": [
    {
     "data": {
      "image/png": "[encoded data removed]",
      "text/plain": [
       "<Figure size 640x480 with 1 Axes>"
      ]
     },
     "metadata": {},
     "output_type": "display_data"
    }
   ],
   "source": [
    "import matplotlib.pyplot as plt; plt.rcdefaults()\n",
    "import numpy as np\n",
    "import matplotlib.pyplot as plt\n",
    "\n",
    "objects = df['Class'].unique()\n",
    "y_pos = np.arange(len(objects))\n",
    "positive = [3,30,0,1,3,0]\n",
    "\n",
    "plt.bar(y_pos, positive, align='center', alpha=0.5)\n",
    "plt.xticks(y_pos, objects)\n",
    "plt.ylabel('positive')\n",
    "plt.title('Categories')\n",
    "\n",
    "plt.show()"
   ]
  },
  {
   "cell_type": "code",
   "execution_count": 124,
   "metadata": {},
   "outputs": [
    {
     "data": {
      "text/plain": [
       "Class\n",
       "Battery life       1\n",
       "Fingerprint        0\n",
       "Not good           1\n",
       "Picture Quality    0\n",
       "Sound Quality      0\n",
       "Value for money    3\n",
       "Name: neg, dtype: int64"
      ]
     },
     "execution_count": 124,
     "metadata": {},
     "output_type": "execute_result"
    }
   ],
   "source": [
    "pd.crosstab(df.Class,df.Sentiment)['neg']"
   ]
  },
  {
   "cell_type": "code",
   "execution_count": 121,
   "metadata": {},
   "outputs": [
    {
     "data": {
      "text/plain": [
       "array(['Fingerprint', 'Value for money', 'Sound Quality', 'Battery life',\n",
       "       'Not good', 'Picture Quality'], dtype=object)"
      ]
     },
     "execution_count": 121,
     "metadata": {},
     "output_type": "execute_result"
    }
   ],
   "source": [
    "df['Class'].unique()\n"
   ]
  },
  {
   "cell_type": "code",
   "execution_count": 125,
   "metadata": {},
   "outputs": [
    {
     "data": {
      "image/png": "[encoded data removed]",
      "text/plain": [
       "<Figure size 640x480 with 1 Axes>"
      ]
     },
     "metadata": {},
     "output_type": "display_data"
    }
   ],
   "source": [
    "import matplotlib.pyplot as plt; plt.rcdefaults()\n",
    "import numpy as np\n",
    "import matplotlib.pyplot as plt\n",
    "\n",
    "objects = df['Class'].unique()\n",
    "y_pos = np.arange(len(objects))\n",
    "positive = [0,3,0,1,1,0]\n",
    "\n",
    "plt.bar(y_pos, positive, align='center', alpha=0.5)\n",
    "plt.xticks(y_pos, objects)\n",
    "plt.ylabel('Negative')\n",
    "plt.title('Categories')\n",
    "\n",
    "plt.show()"
   ]
  },
  {
   "cell_type": "code",
   "execution_count": null,
   "metadata": {},
   "outputs": [],
   "source": []
  }
 ],
 "metadata": {
  "kernelspec": {
   "display_name": "Python 3",
   "language": "python",
   "name": "python3"
  },
  "language_info": {
   "codemirror_mode": {
    "name": "ipython",
    "version": 3
   },
   "file_extension": ".py",
   "mimetype": "text/x-python",
   "name": "python",
   "nbconvert_exporter": "python",
   "pygments_lexer": "ipython3",
   "version": "3.7.1"
  }
 },
 "nbformat": 4,
 "nbformat_minor": 2
}
